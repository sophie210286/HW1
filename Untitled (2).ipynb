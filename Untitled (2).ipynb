{
 "cells": [
  {
   "cell_type": "code",
   "execution_count": 490,
   "id": "bbdccedc-84f1-45af-af97-a2607a27f139",
   "metadata": {
    "tags": []
   },
   "outputs": [
    {
     "name": "stdout",
     "output_type": "stream",
     "text": [
      "This is the original Data:\n"
     ]
    },
    {
     "data": {
      "text/html": [
       "<div>\n",
       "<style scoped>\n",
       "    .dataframe tbody tr th:only-of-type {\n",
       "        vertical-align: middle;\n",
       "    }\n",
       "\n",
       "    .dataframe tbody tr th {\n",
       "        vertical-align: top;\n",
       "    }\n",
       "\n",
       "    .dataframe thead th {\n",
       "        text-align: right;\n",
       "    }\n",
       "</style>\n",
       "<table border=\"1\" class=\"dataframe\">\n",
       "  <thead>\n",
       "    <tr style=\"text-align: right;\">\n",
       "      <th></th>\n",
       "      <th>BI-RADS assessment</th>\n",
       "      <th>Age</th>\n",
       "      <th>Shape</th>\n",
       "      <th>Margin</th>\n",
       "      <th>Density</th>\n",
       "      <th>Severity</th>\n",
       "    </tr>\n",
       "  </thead>\n",
       "  <tbody>\n",
       "    <tr>\n",
       "      <th>0</th>\n",
       "      <td>5</td>\n",
       "      <td>67</td>\n",
       "      <td>3</td>\n",
       "      <td>5</td>\n",
       "      <td>3</td>\n",
       "      <td>1</td>\n",
       "    </tr>\n",
       "    <tr>\n",
       "      <th>1</th>\n",
       "      <td>4</td>\n",
       "      <td>43</td>\n",
       "      <td>1</td>\n",
       "      <td>1</td>\n",
       "      <td>?</td>\n",
       "      <td>1</td>\n",
       "    </tr>\n",
       "    <tr>\n",
       "      <th>2</th>\n",
       "      <td>5</td>\n",
       "      <td>58</td>\n",
       "      <td>4</td>\n",
       "      <td>5</td>\n",
       "      <td>3</td>\n",
       "      <td>1</td>\n",
       "    </tr>\n",
       "    <tr>\n",
       "      <th>3</th>\n",
       "      <td>4</td>\n",
       "      <td>28</td>\n",
       "      <td>1</td>\n",
       "      <td>1</td>\n",
       "      <td>3</td>\n",
       "      <td>0</td>\n",
       "    </tr>\n",
       "    <tr>\n",
       "      <th>4</th>\n",
       "      <td>5</td>\n",
       "      <td>74</td>\n",
       "      <td>1</td>\n",
       "      <td>5</td>\n",
       "      <td>?</td>\n",
       "      <td>1</td>\n",
       "    </tr>\n",
       "    <tr>\n",
       "      <th>...</th>\n",
       "      <td>...</td>\n",
       "      <td>...</td>\n",
       "      <td>...</td>\n",
       "      <td>...</td>\n",
       "      <td>...</td>\n",
       "      <td>...</td>\n",
       "    </tr>\n",
       "    <tr>\n",
       "      <th>956</th>\n",
       "      <td>4</td>\n",
       "      <td>47</td>\n",
       "      <td>2</td>\n",
       "      <td>1</td>\n",
       "      <td>3</td>\n",
       "      <td>0</td>\n",
       "    </tr>\n",
       "    <tr>\n",
       "      <th>957</th>\n",
       "      <td>4</td>\n",
       "      <td>56</td>\n",
       "      <td>4</td>\n",
       "      <td>5</td>\n",
       "      <td>3</td>\n",
       "      <td>1</td>\n",
       "    </tr>\n",
       "    <tr>\n",
       "      <th>958</th>\n",
       "      <td>4</td>\n",
       "      <td>64</td>\n",
       "      <td>4</td>\n",
       "      <td>5</td>\n",
       "      <td>3</td>\n",
       "      <td>0</td>\n",
       "    </tr>\n",
       "    <tr>\n",
       "      <th>959</th>\n",
       "      <td>5</td>\n",
       "      <td>66</td>\n",
       "      <td>4</td>\n",
       "      <td>5</td>\n",
       "      <td>3</td>\n",
       "      <td>1</td>\n",
       "    </tr>\n",
       "    <tr>\n",
       "      <th>960</th>\n",
       "      <td>4</td>\n",
       "      <td>62</td>\n",
       "      <td>3</td>\n",
       "      <td>3</td>\n",
       "      <td>3</td>\n",
       "      <td>0</td>\n",
       "    </tr>\n",
       "  </tbody>\n",
       "</table>\n",
       "<p>961 rows × 6 columns</p>\n",
       "</div>"
      ],
      "text/plain": [
       "    BI-RADS assessment Age Shape Margin Density  Severity\n",
       "0                    5  67     3      5       3         1\n",
       "1                    4  43     1      1       ?         1\n",
       "2                    5  58     4      5       3         1\n",
       "3                    4  28     1      1       3         0\n",
       "4                    5  74     1      5       ?         1\n",
       "..                 ...  ..   ...    ...     ...       ...\n",
       "956                  4  47     2      1       3         0\n",
       "957                  4  56     4      5       3         1\n",
       "958                  4  64     4      5       3         0\n",
       "959                  5  66     4      5       3         1\n",
       "960                  4  62     3      3       3         0\n",
       "\n",
       "[961 rows x 6 columns]"
      ]
     },
     "metadata": {},
     "output_type": "display_data"
    },
    {
     "name": "stdout",
     "output_type": "stream",
     "text": [
      "The following shows what each column indicates:\n",
      " 1. BI-RADS assessment: 1 to 5 (ordinal)  \n",
      " 2. Age: patient's age in years (integer) \n",
      " 3. Shape: mass shape: round=1 oval=2 lobular=3 irregular=4 (nominal)\n",
      " 4. Margin: mass margin: circumscribed=1 microlobulated=2 obscured=3 ill-defined=4 spiculated=5 (nominal)\n",
      " 5. Density: mass density high=1 iso=2 low=3 fat-containing=4 (ordinal) \n",
      " 6. Severity: benign=0 or malignant=1 (binominal)\n"
     ]
    }
   ],
   "source": [
    "import pandas as pd\n",
    "import numpy as np\n",
    "\n",
    "df = pd.read_csv(\"C:\\\\Users\\\\sophia\\\\Desktop\\\\mammographic_masses.data\",  names = [\"BI-RADS assessment\", 'Age','Shape','Margin','Density','Severity'])\n",
    "print(\"This is the original Data:\")\n",
    "display(df)\n",
    "\n",
    "\n",
    "print(\"The following shows what each column indicates:\")\n",
    "print(\" 1. BI-RADS assessment: 1 to 5 (ordinal)  \\n 2. Age: patient's age in years (integer) \\n 3. Shape: mass shape: round=1 oval=2 lobular=3 irregular=4 (nominal)\")\n",
    "print(\" 4. Margin: mass margin: circumscribed=1 microlobulated=2 obscured=3 ill-defined=4 spiculated=5 (nominal)\")\n",
    "print(\" 5. Density: mass density high=1 iso=2 low=3 fat-containing=4 (ordinal) \\n 6. Severity: benign=0 or malignant=1 (binominal)\")"
   ]
  },
  {
   "cell_type": "code",
   "execution_count": 491,
   "id": "8537f17d-cef9-4f6c-a4f7-d77c325adb18",
   "metadata": {},
   "outputs": [
    {
     "name": "stdout",
     "output_type": "stream",
     "text": [
      "This is the cleaned data, where I did the following: \n",
      " I replaced the ? with 0 \n",
      " For severity I deleted the rows with ?\n",
      "    BI-RADS assessment Age Shape Margin Density  Severity\n",
      "0                    5  67     3      5       3         1\n",
      "1                    4  43     1      1       0         1\n",
      "2                    5  58     4      5       3         1\n",
      "3                    4  28     1      1       3         0\n",
      "4                    5  74     1      5       0         1\n",
      "..                 ...  ..   ...    ...     ...       ...\n",
      "956                  4  47     2      1       3         0\n",
      "957                  4  56     4      5       3         1\n",
      "958                  4  64     4      5       3         0\n",
      "959                  5  66     4      5       3         1\n",
      "960                  4  62     3      3       3         0\n",
      "\n",
      "[961 rows x 6 columns]\n"
     ]
    }
   ],
   "source": [
    "print(\"This is the cleaned data, where I did the following: \\n I replaced the ? with 0 \\n For severity I deleted the rows with ?\")\n",
    "df[\"BI-RADS assessment\"].replace({\"?\": \"0\"}, inplace=True)\n",
    "df[\"Age\"].replace({\"?\": \"0\"}, inplace=True)\n",
    "df[\"Margin\"].replace({\"?\": \"0\"}, inplace=True)\n",
    "df[\"Density\"].replace({\"?\": \"0\"}, inplace=True)\n",
    "df[\"Shape\"].replace({\"?\": \"0\"}, inplace=True)\n",
    "print(df)"
   ]
  },
  {
   "cell_type": "code",
   "execution_count": 492,
   "id": "dd088a37-fdfb-435a-b908-b5a02b5d9b92",
   "metadata": {},
   "outputs": [
    {
     "name": "stdout",
     "output_type": "stream",
     "text": [
      "BI-RADS assessment    object\n",
      "Age                   object\n",
      "Shape                 object\n",
      "Margin                object\n",
      "Density               object\n",
      "Severity               int64\n",
      "dtype: object\n"
     ]
    }
   ],
   "source": [
    "# checking the data types to see which columns I need to convert\n",
    "print(df.dtypes)"
   ]
  },
  {
   "cell_type": "code",
   "execution_count": 493,
   "id": "793ca15d-137e-40ca-b08c-3323a1b6516f",
   "metadata": {},
   "outputs": [],
   "source": [
    "df['Age'] = df['Age'].astype(int)\n",
    "df['BI-RADS assessment'] = df['BI-RADS assessment'].astype(int)\n",
    "df['Shape'] = df['Shape'].astype(int)\n",
    "df['Margin'] = df['Margin'].astype(int)\n",
    "df['Density'] = df['Density'].astype(int)"
   ]
  },
  {
   "cell_type": "code",
   "execution_count": 95,
   "id": "a1fbc99f-8c89-49d7-bba4-0ef4238b18f6",
   "metadata": {},
   "outputs": [
    {
     "name": "stdout",
     "output_type": "stream",
     "text": [
      "BI-RADS assessment    int32\n",
      "Age                   int32\n",
      "Shape                 int32\n",
      "Margin                int32\n",
      "Density               int32\n",
      "Severity              int64\n",
      "dtype: object\n"
     ]
    }
   ],
   "source": [
    "#re-checking the data types\n",
    "print(df.dtypes)"
   ]
  },
  {
   "cell_type": "code",
   "execution_count": 494,
   "id": "3cc03b11-2f37-4c21-a73a-70aea1ee9d1d",
   "metadata": {},
   "outputs": [
    {
     "data": {
      "text/html": [
       "<div>\n",
       "<style scoped>\n",
       "    .dataframe tbody tr th:only-of-type {\n",
       "        vertical-align: middle;\n",
       "    }\n",
       "\n",
       "    .dataframe tbody tr th {\n",
       "        vertical-align: top;\n",
       "    }\n",
       "\n",
       "    .dataframe thead th {\n",
       "        text-align: right;\n",
       "    }\n",
       "</style>\n",
       "<table border=\"1\" class=\"dataframe\">\n",
       "  <thead>\n",
       "    <tr style=\"text-align: right;\">\n",
       "      <th></th>\n",
       "      <th>BI-RADS assessment</th>\n",
       "      <th>Age</th>\n",
       "      <th>Shape</th>\n",
       "      <th>Margin</th>\n",
       "      <th>Density</th>\n",
       "      <th>Severity</th>\n",
       "    </tr>\n",
       "  </thead>\n",
       "  <tbody>\n",
       "    <tr>\n",
       "      <th>0</th>\n",
       "      <td>5</td>\n",
       "      <td>67</td>\n",
       "      <td>3</td>\n",
       "      <td>5</td>\n",
       "      <td>3</td>\n",
       "      <td>1</td>\n",
       "    </tr>\n",
       "    <tr>\n",
       "      <th>2</th>\n",
       "      <td>5</td>\n",
       "      <td>58</td>\n",
       "      <td>4</td>\n",
       "      <td>5</td>\n",
       "      <td>3</td>\n",
       "      <td>1</td>\n",
       "    </tr>\n",
       "    <tr>\n",
       "      <th>3</th>\n",
       "      <td>4</td>\n",
       "      <td>28</td>\n",
       "      <td>1</td>\n",
       "      <td>1</td>\n",
       "      <td>3</td>\n",
       "      <td>0</td>\n",
       "    </tr>\n",
       "    <tr>\n",
       "      <th>8</th>\n",
       "      <td>5</td>\n",
       "      <td>57</td>\n",
       "      <td>1</td>\n",
       "      <td>5</td>\n",
       "      <td>3</td>\n",
       "      <td>1</td>\n",
       "    </tr>\n",
       "    <tr>\n",
       "      <th>10</th>\n",
       "      <td>5</td>\n",
       "      <td>76</td>\n",
       "      <td>1</td>\n",
       "      <td>4</td>\n",
       "      <td>3</td>\n",
       "      <td>1</td>\n",
       "    </tr>\n",
       "    <tr>\n",
       "      <th>...</th>\n",
       "      <td>...</td>\n",
       "      <td>...</td>\n",
       "      <td>...</td>\n",
       "      <td>...</td>\n",
       "      <td>...</td>\n",
       "      <td>...</td>\n",
       "    </tr>\n",
       "    <tr>\n",
       "      <th>956</th>\n",
       "      <td>4</td>\n",
       "      <td>47</td>\n",
       "      <td>2</td>\n",
       "      <td>1</td>\n",
       "      <td>3</td>\n",
       "      <td>0</td>\n",
       "    </tr>\n",
       "    <tr>\n",
       "      <th>957</th>\n",
       "      <td>4</td>\n",
       "      <td>56</td>\n",
       "      <td>4</td>\n",
       "      <td>5</td>\n",
       "      <td>3</td>\n",
       "      <td>1</td>\n",
       "    </tr>\n",
       "    <tr>\n",
       "      <th>958</th>\n",
       "      <td>4</td>\n",
       "      <td>64</td>\n",
       "      <td>4</td>\n",
       "      <td>5</td>\n",
       "      <td>3</td>\n",
       "      <td>0</td>\n",
       "    </tr>\n",
       "    <tr>\n",
       "      <th>959</th>\n",
       "      <td>5</td>\n",
       "      <td>66</td>\n",
       "      <td>4</td>\n",
       "      <td>5</td>\n",
       "      <td>3</td>\n",
       "      <td>1</td>\n",
       "    </tr>\n",
       "    <tr>\n",
       "      <th>960</th>\n",
       "      <td>4</td>\n",
       "      <td>62</td>\n",
       "      <td>3</td>\n",
       "      <td>3</td>\n",
       "      <td>3</td>\n",
       "      <td>0</td>\n",
       "    </tr>\n",
       "  </tbody>\n",
       "</table>\n",
       "<p>815 rows × 6 columns</p>\n",
       "</div>"
      ],
      "text/plain": [
       "     BI-RADS assessment  Age  Shape  Margin  Density  Severity\n",
       "0                     5   67      3       5        3         1\n",
       "2                     5   58      4       5        3         1\n",
       "3                     4   28      1       1        3         0\n",
       "8                     5   57      1       5        3         1\n",
       "10                    5   76      1       4        3         1\n",
       "..                  ...  ...    ...     ...      ...       ...\n",
       "956                   4   47      2       1        3         0\n",
       "957                   4   56      4       5        3         1\n",
       "958                   4   64      4       5        3         0\n",
       "959                   5   66      4       5        3         1\n",
       "960                   4   62      3       3        3         0\n",
       "\n",
       "[815 rows x 6 columns]"
      ]
     },
     "execution_count": 494,
     "metadata": {},
     "output_type": "execute_result"
    }
   ],
   "source": [
    "df = df.loc[df[\"BI-RADS assessment\"] != 0]\n",
    "df = df.loc[df[\"BI-RADS assessment\"] <= 5]    # removing any values greater than 5 \n",
    "df = df.loc[df[\"Age\"] != 0]\n",
    "df = df.loc[df[\"Shape\"] != 0]\n",
    "df = df.loc[df[\"Margin\"] != 0]\n",
    "df = df.loc[df[\"Density\"] != 0]\n",
    "df"
   ]
  },
  {
   "cell_type": "code",
   "execution_count": 495,
   "id": "f816205b-6381-49a1-a8fe-64fa673f4e3b",
   "metadata": {},
   "outputs": [
    {
     "data": {
      "text/html": [
       "<div>\n",
       "<style scoped>\n",
       "    .dataframe tbody tr th:only-of-type {\n",
       "        vertical-align: middle;\n",
       "    }\n",
       "\n",
       "    .dataframe tbody tr th {\n",
       "        vertical-align: top;\n",
       "    }\n",
       "\n",
       "    .dataframe thead th {\n",
       "        text-align: right;\n",
       "    }\n",
       "</style>\n",
       "<table border=\"1\" class=\"dataframe\">\n",
       "  <thead>\n",
       "    <tr style=\"text-align: right;\">\n",
       "      <th></th>\n",
       "      <th>BI-RADS assessment</th>\n",
       "      <th>Age</th>\n",
       "      <th>Shape</th>\n",
       "      <th>Margin</th>\n",
       "      <th>Density</th>\n",
       "      <th>Severity</th>\n",
       "    </tr>\n",
       "  </thead>\n",
       "  <tbody>\n",
       "    <tr>\n",
       "      <th>count</th>\n",
       "      <td>815.000000</td>\n",
       "      <td>815.000000</td>\n",
       "      <td>815.000000</td>\n",
       "      <td>815.000000</td>\n",
       "      <td>815.000000</td>\n",
       "      <td>815.000000</td>\n",
       "    </tr>\n",
       "    <tr>\n",
       "      <th>mean</th>\n",
       "      <td>4.341104</td>\n",
       "      <td>55.694479</td>\n",
       "      <td>2.770552</td>\n",
       "      <td>2.801227</td>\n",
       "      <td>2.915337</td>\n",
       "      <td>0.480982</td>\n",
       "    </tr>\n",
       "    <tr>\n",
       "      <th>std</th>\n",
       "      <td>0.579304</td>\n",
       "      <td>14.695890</td>\n",
       "      <td>1.244197</td>\n",
       "      <td>1.570536</td>\n",
       "      <td>0.352524</td>\n",
       "      <td>0.499945</td>\n",
       "    </tr>\n",
       "    <tr>\n",
       "      <th>min</th>\n",
       "      <td>2.000000</td>\n",
       "      <td>18.000000</td>\n",
       "      <td>1.000000</td>\n",
       "      <td>1.000000</td>\n",
       "      <td>1.000000</td>\n",
       "      <td>0.000000</td>\n",
       "    </tr>\n",
       "    <tr>\n",
       "      <th>25%</th>\n",
       "      <td>4.000000</td>\n",
       "      <td>45.500000</td>\n",
       "      <td>2.000000</td>\n",
       "      <td>1.000000</td>\n",
       "      <td>3.000000</td>\n",
       "      <td>0.000000</td>\n",
       "    </tr>\n",
       "    <tr>\n",
       "      <th>50%</th>\n",
       "      <td>4.000000</td>\n",
       "      <td>57.000000</td>\n",
       "      <td>3.000000</td>\n",
       "      <td>3.000000</td>\n",
       "      <td>3.000000</td>\n",
       "      <td>0.000000</td>\n",
       "    </tr>\n",
       "    <tr>\n",
       "      <th>75%</th>\n",
       "      <td>5.000000</td>\n",
       "      <td>66.000000</td>\n",
       "      <td>4.000000</td>\n",
       "      <td>4.000000</td>\n",
       "      <td>3.000000</td>\n",
       "      <td>1.000000</td>\n",
       "    </tr>\n",
       "    <tr>\n",
       "      <th>max</th>\n",
       "      <td>5.000000</td>\n",
       "      <td>96.000000</td>\n",
       "      <td>4.000000</td>\n",
       "      <td>5.000000</td>\n",
       "      <td>4.000000</td>\n",
       "      <td>1.000000</td>\n",
       "    </tr>\n",
       "  </tbody>\n",
       "</table>\n",
       "</div>"
      ],
      "text/plain": [
       "       BI-RADS assessment         Age       Shape      Margin     Density  \\\n",
       "count          815.000000  815.000000  815.000000  815.000000  815.000000   \n",
       "mean             4.341104   55.694479    2.770552    2.801227    2.915337   \n",
       "std              0.579304   14.695890    1.244197    1.570536    0.352524   \n",
       "min              2.000000   18.000000    1.000000    1.000000    1.000000   \n",
       "25%              4.000000   45.500000    2.000000    1.000000    3.000000   \n",
       "50%              4.000000   57.000000    3.000000    3.000000    3.000000   \n",
       "75%              5.000000   66.000000    4.000000    4.000000    3.000000   \n",
       "max              5.000000   96.000000    4.000000    5.000000    4.000000   \n",
       "\n",
       "         Severity  \n",
       "count  815.000000  \n",
       "mean     0.480982  \n",
       "std      0.499945  \n",
       "min      0.000000  \n",
       "25%      0.000000  \n",
       "50%      0.000000  \n",
       "75%      1.000000  \n",
       "max      1.000000  "
      ]
     },
     "execution_count": 495,
     "metadata": {},
     "output_type": "execute_result"
    }
   ],
   "source": [
    "# Using df.describe to check to make sure I am done cleaning\n",
    "df.describe()"
   ]
  },
  {
   "cell_type": "code",
   "execution_count": 496,
   "id": "94b8f0a1-080b-46e8-8f9c-2bb918b739d5",
   "metadata": {},
   "outputs": [
    {
     "name": "stdout",
     "output_type": "stream",
     "text": [
      "Finding the following: \n",
      "Mean, Median, Variance, Standard Deviation \n",
      "For Age \n",
      "\n",
      "The Mean for the Age columns is: 55.69447852760736\n",
      "The Median for the Age columns is: 57.0\n",
      "The Standard Deviation for the Age columns is: 14.695890429644464\n",
      "The Variance for the Age columns is: 215.96919552011576\n"
     ]
    }
   ],
   "source": [
    "print(\"Finding the following: \\nMean, Median, Variance, Standard Deviation \\nFor Age \\n\")\n",
    "\n",
    "age_mean = df[\"Age\"].mean()\n",
    "print(\"The Mean for the Age columns is: \" +str(age_mean))\n",
    "\n",
    "age_median = df[\"Age\"].median()\n",
    "print(\"The Median for the Age columns is: \" +str(age_median))\n",
    "\n",
    "age_std = df[\"Age\"].std()\n",
    "print(\"The Standard Deviation for the Age columns is: \" +str(age_std))\n",
    "\n",
    "age_var = df[\"Age\"].var()\n",
    "print(\"The Variance for the Age columns is: \" +str(age_var))"
   ]
  },
  {
   "cell_type": "code",
   "execution_count": 497,
   "id": "983f9ab2-6f4a-4fe0-a138-e96ba7268d08",
   "metadata": {},
   "outputs": [
    {
     "name": "stdout",
     "output_type": "stream",
     "text": [
      "Finding the following: \n",
      "Mean, Median, Variance, Standard Deviation \n",
      "For BI-RADS assessment \n",
      "\n",
      "The Mean for the Shape columns is: 4.341104294478527\n",
      "The Median for the Shape columns is: 4.0\n",
      "The Standard Deviation for the Shape columns is: 0.5793042150978912\n",
      "The Variance for the Shape columns is: 0.3355933736301838\n"
     ]
    }
   ],
   "source": [
    "print(\"Finding the following: \\nMean, Median, Variance, Standard Deviation \\nFor BI-RADS assessment \\n\")\n",
    "BR_mean = df[\"BI-RADS assessment\"].mean()\n",
    "print(\"The Mean for the Shape columns is: \" +str(BR_mean))\n",
    "\n",
    "BR_median = df[\"BI-RADS assessment\"].median()\n",
    "print(\"The Median for the Shape columns is: \" +str(BR_median))\n",
    "\n",
    "BR_std = df[\"BI-RADS assessment\"].std()\n",
    "print(\"The Standard Deviation for the Shape columns is: \" +str(BR_std))\n",
    "\n",
    "BR_var = df[\"BI-RADS assessment\"].var()\n",
    "print(\"The Variance for the Shape columns is: \" +str(BR_var))"
   ]
  },
  {
   "cell_type": "code",
   "execution_count": 498,
   "id": "0e415e99-ff0a-47b4-9d3e-a272f96a539e",
   "metadata": {},
   "outputs": [],
   "source": [
    "import matplotlib.pyplot as plt"
   ]
  },
  {
   "cell_type": "code",
   "execution_count": 500,
   "id": "c51826f2-45ea-4c51-a0ab-a26141d84c5a",
   "metadata": {},
   "outputs": [
    {
     "name": "stdout",
     "output_type": "stream",
     "text": [
      "box plot\n"
     ]
    },
    {
     "data": {
      "text/plain": [
       "Text(0.5, 1.03, 'The score for: Density, Margin, Shape and BI-RADS assessment')"
      ]
     },
     "execution_count": 500,
     "metadata": {},
     "output_type": "execute_result"
    },
    {
     "data": {
      "image/png": "[encoded data removed]",
      "text/plain": [
       "<Figure size 432x288 with 1 Axes>"
      ]
     },
     "metadata": {
      "needs_background": "light"
     },
     "output_type": "display_data"
    }
   ],
   "source": [
    "print(\"box plot\")\n",
    "\n",
    "red_circle = dict(markerfacecolor='red', marker='o')\n",
    "df.boxplot(column=['BI-RADS assessment','Shape', \"Margin\", 'Density'], grid=False, color='black', vert=False, flierprops=red_circle,\n",
    "          medianprops={'linestyle': '-', 'linewidth': 1})\n",
    "plt.xlabel('Score', fontsize=10)\n",
    "plt.title(\"The score for: Density, Margin, Shape and BI-RADS assessment\", fontsize = 13, y=1.03)"
   ]
  },
  {
   "cell_type": "code",
   "execution_count": 501,
   "id": "ef4b4007-d784-41a0-b4c3-e11e82394840",
   "metadata": {},
   "outputs": [
    {
     "data": {
      "text/plain": [
       "Text(0.5, 0, 'Age(yr)')"
      ]
     },
     "execution_count": 501,
     "metadata": {},
     "output_type": "execute_result"
    },
    {
     "data": {
      "image/png": "[encoded data removed]",
      "text/plain": [
       "<Figure size 432x288 with 1 Axes>"
      ]
     },
     "metadata": {
      "needs_background": "light"
     },
     "output_type": "display_data"
    }
   ],
   "source": [
    "df.boxplot(column=['Age'], grid=False, color='black', vert=False,flierprops=red_circle,\n",
    "          medianprops={'linestyle': '-', 'linewidth': 1})\n",
    "plt.title(\"The Spread of patients Age\", fontsize = 13, y=1.03)\n",
    "plt.xlabel('Age(yr)', fontsize=10)"
   ]
  },
  {
   "cell_type": "code",
   "execution_count": 502,
   "id": "8b62c57f-4fac-442b-b65f-833f45facf34",
   "metadata": {},
   "outputs": [
    {
     "data": {
      "text/plain": [
       "4    468\n",
       "5    316\n",
       "3     24\n",
       "2      7\n",
       "Name: BI-RADS assessment, dtype: int64"
      ]
     },
     "execution_count": 502,
     "metadata": {},
     "output_type": "execute_result"
    }
   ],
   "source": [
    "df['BI-RADS assessment'].value_counts()"
   ]
  },
  {
   "cell_type": "code",
   "execution_count": 524,
   "id": "814b8bc5-6850-4ec6-96ea-9380c07cc8ef",
   "metadata": {
    "tags": []
   },
   "outputs": [
    {
     "data": {
      "text/plain": [
       "<Figure size 1080x1080 with 0 Axes>"
      ]
     },
     "execution_count": 524,
     "metadata": {},
     "output_type": "execute_result"
    },
    {
     "data": {
      "image/png": "[encoded data removed]",
      "text/plain": [
       "<Figure size 432x288 with 1 Axes>"
      ]
     },
     "metadata": {
      "needs_background": "light"
     },
     "output_type": "display_data"
    },
    {
     "data": {
      "text/plain": [
       "<Figure size 1080x1080 with 0 Axes>"
      ]
     },
     "metadata": {},
     "output_type": "display_data"
    }
   ],
   "source": [
    "import matplotlib.patches as mpatches\n",
    "df['BI-RADS assessment'].value_counts().sort_index(ascending=True).plot(kind='bar',color=['#ff9999','#66b3ff','#99ff99','#ffcc99'],  edgecolor='black')\n",
    "\n",
    "plt.title(\"BI-RADS Score Count\", fontsize = 17, y=1.03)\n",
    "plt.xlabel('BI-RADS Assessment Score', fontsize=14)\n",
    "plt.yticks(range(0,500,50))\n",
    "plt.grid(True, linewidth=0.5, color='gray', linestyle='-')\n",
    "plt.ylabel('Count', fontsize=14)\n",
    "plt.figure(figsize=(15, 15))\n",
    "\n",
    "#This bar graph is skwewed left indicating that most of the BI-RADS assessment scores for the patients where in the 4ish range"
   ]
  },
  {
   "cell_type": "code",
   "execution_count": 504,
   "id": "792c9651-f358-4c00-a05f-c04f96eea972",
   "metadata": {},
   "outputs": [
    {
     "data": {
      "text/plain": [
       "([<matplotlib.axis.YTick at 0x15aa977e370>,\n",
       "  <matplotlib.axis.YTick at 0x15aa977ef70>,\n",
       "  <matplotlib.axis.YTick at 0x15aa976c940>,\n",
       "  <matplotlib.axis.YTick at 0x15aa979e520>,\n",
       "  <matplotlib.axis.YTick at 0x15aaa792af0>,\n",
       "  <matplotlib.axis.YTick at 0x15aaa792160>,\n",
       "  <matplotlib.axis.YTick at 0x15aaa79d640>,\n",
       "  <matplotlib.axis.YTick at 0x15aa979e850>,\n",
       "  <matplotlib.axis.YTick at 0x15aaa79d6d0>,\n",
       "  <matplotlib.axis.YTick at 0x15aaa79dc10>,\n",
       "  <matplotlib.axis.YTick at 0x15aa9780160>,\n",
       "  <matplotlib.axis.YTick at 0x15aa9780670>,\n",
       "  <matplotlib.axis.YTick at 0x15aa9780b80>,\n",
       "  <matplotlib.axis.YTick at 0x15aa978d0d0>,\n",
       "  <matplotlib.axis.YTick at 0x15aa978d5e0>,\n",
       "  <matplotlib.axis.YTick at 0x15aa978daf0>,\n",
       "  <matplotlib.axis.YTick at 0x15aa9780730>,\n",
       "  <matplotlib.axis.YTick at 0x15aaa79d7c0>,\n",
       "  <matplotlib.axis.YTick at 0x15aa978d640>,\n",
       "  <matplotlib.axis.YTick at 0x15aaa7a0160>],\n",
       " [Text(0, 0, ''),\n",
       "  Text(0, 0, ''),\n",
       "  Text(0, 0, ''),\n",
       "  Text(0, 0, ''),\n",
       "  Text(0, 0, ''),\n",
       "  Text(0, 0, ''),\n",
       "  Text(0, 0, ''),\n",
       "  Text(0, 0, ''),\n",
       "  Text(0, 0, ''),\n",
       "  Text(0, 0, ''),\n",
       "  Text(0, 0, ''),\n",
       "  Text(0, 0, ''),\n",
       "  Text(0, 0, ''),\n",
       "  Text(0, 0, ''),\n",
       "  Text(0, 0, ''),\n",
       "  Text(0, 0, ''),\n",
       "  Text(0, 0, ''),\n",
       "  Text(0, 0, ''),\n",
       "  Text(0, 0, ''),\n",
       "  Text(0, 0, '')])"
      ]
     },
     "execution_count": 504,
     "metadata": {},
     "output_type": "execute_result"
    },
    {
     "data": {
      "image/png": "[encoded data removed]",
      "text/plain": [
       "<Figure size 216x792 with 1 Axes>"
      ]
     },
     "metadata": {
      "needs_background": "light"
     },
     "output_type": "display_data"
    }
   ],
   "source": [
    "#shape vs density\n",
    "plt.figure(figsize=(3, 11))\n",
    "plt.scatter(df.Severity, df.Age, c = 'mediumpurple')\n",
    "plt.title(\"Age (yrs) vs Severity\", fontsize = 17, y=1.02)\n",
    "plt.xlabel('Severity', fontsize=14)\n",
    "plt.ylabel('Age', fontsize=14)\n",
    "plt.grid(True, linewidth=0.5, color='gray', linestyle='-')\n",
    "plt.yticks(range(0,100,5))\n",
    "#plt.xticks(range(0,1,1))\n",
    "\n",
    "#age slighty matters\n",
    "# you can have a malignant tumor regardless of age HOWEVER:\n",
    "# before 30 more likely to be benign\n",
    "# afer 80s more likely for it to be malignant"
   ]
  },
  {
   "cell_type": "code",
   "execution_count": 541,
   "id": "e38f52f9-ede4-46a5-a766-0e6055944361",
   "metadata": {},
   "outputs": [
    {
     "data": {
      "text/plain": [
       "4    369\n",
       "1    189\n",
       "2    178\n",
       "3     79\n",
       "Name: Shape, dtype: int64"
      ]
     },
     "execution_count": 541,
     "metadata": {},
     "output_type": "execute_result"
    },
    {
     "data": {
      "image/png": "[encoded data removed]",
      "text/plain": [
       "<Figure size 432x288 with 1 Axes>"
      ]
     },
     "metadata": {},
     "output_type": "display_data"
    },
    {
     "data": {
      "text/plain": [
       "<Figure size 1080x1080 with 0 Axes>"
      ]
     },
     "metadata": {},
     "output_type": "display_data"
    }
   ],
   "source": [
    "explode = (0.1, 0, 0, 0)  \n",
    "df['Shape'].value_counts().plot(kind='pie', fontsize = 13, explode=explode, autopct='%1.0f%%'\n",
    "                                ,colors = ['#ff9999','#66b3ff','#99ff99','#ffcc99']\n",
    "                               ,shadow = True, startangle = 90)\n",
    "\n",
    "\n",
    "\n",
    "plt.title(\"Shape Count\", fontsize = 17, y=1.02)\n",
    "plt.legend(loc='lower right')\n",
    "plt.figure(figsize=(15, 15))\n",
    "df['Shape'].value_counts()\n",
    "\n",
    "# most people had a shape of 4 "
   ]
  },
  {
   "cell_type": "code",
   "execution_count": 506,
   "id": "8630b729-c9bc-4b5f-999b-069519166b82",
   "metadata": {},
   "outputs": [
    {
     "data": {
      "text/plain": [
       "4    468\n",
       "5    316\n",
       "3     24\n",
       "2      7\n",
       "Name: BI-RADS assessment, dtype: int64"
      ]
     },
     "execution_count": 506,
     "metadata": {},
     "output_type": "execute_result"
    }
   ],
   "source": [
    "df['BI-RADS assessment'].value_counts()"
   ]
  }
 ],
 "metadata": {
  "kernelspec": {
   "display_name": "Python 3",
   "language": "python",
   "name": "python3"
  },
  "language_info": {
   "codemirror_mode": {
    "name": "ipython",
    "version": 3
   },
   "file_extension": ".py",
   "mimetype": "text/x-python",
   "name": "python",
   "nbconvert_exporter": "python",
   "pygments_lexer": "ipython3",
   "version": "3.8.8"
  }
 },
 "nbformat": 4,
 "nbformat_minor": 5
}
